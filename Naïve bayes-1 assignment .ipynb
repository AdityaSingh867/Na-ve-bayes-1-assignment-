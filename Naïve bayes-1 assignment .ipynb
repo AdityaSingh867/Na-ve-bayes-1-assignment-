{
 "cells": [
  {
   "cell_type": "markdown",
   "id": "47676bab-e4c2-424b-94e0-359624153573",
   "metadata": {},
   "source": [
    "Q1. What is Bayes' theorem?"
   ]
  },
  {
   "cell_type": "markdown",
   "id": "b07bf899-1d4d-4389-9297-6f20f985c3ca",
   "metadata": {},
   "source": [
    "Bayes' Theorem states that the conditional probability of an event, based on the occurrence of another event, is equal to the conditional probability of another event , based on the first event .\n",
    "\n",
    "\n",
    "Bayes' Theorem states that the conditional probability of an event, based on the occurrence of another event, is equal to the likelihood of the second event given the first event multiplied by the probability of the first event."
   ]
  },
  {
   "cell_type": "markdown",
   "id": "6ee8b6cd-3e53-4dfc-9cec-af632513ef16",
   "metadata": {},
   "source": [
    "Q2. What is the formula for Bayes' theorem?"
   ]
  },
  {
   "cell_type": "markdown",
   "id": "51b15f48-1eb6-4d1d-8bb2-9675f22a41b7",
   "metadata": {},
   "source": [
    " P(A|B) = P(A) and P(B|A) = P(B)"
   ]
  },
  {
   "cell_type": "markdown",
   "id": "53c19015-5def-4cc2-82ce-97e45587a078",
   "metadata": {},
   "source": [
    "Q3. How is Bayes' theorem used in practice?"
   ]
  },
  {
   "cell_type": "markdown",
   "id": "6e4ed487-f6fe-4160-a67e-00d06ce745c6",
   "metadata": {},
   "source": [
    "it's used to figure out how likely an event is based on its proximity to another"
   ]
  },
  {
   "cell_type": "markdown",
   "id": "4568029c-835a-4238-b1ce-d0a1d5ed5681",
   "metadata": {},
   "source": [
    "Q4. What is the relationship between Bayes' theorem and conditional probability?"
   ]
  },
  {
   "cell_type": "markdown",
   "id": "c4a49260-a63e-4493-be91-622367b65026",
   "metadata": {},
   "source": [
    " the conditional probability of an event, based on the occurrence of another event, is equal to the likelihood of the second event given the first event multiplied by the probability of the first event."
   ]
  },
  {
   "cell_type": "markdown",
   "id": "47bbe90e-c37a-46e2-a931-67e07f910264",
   "metadata": {},
   "source": [
    "Q5. How do you choose which type of Naive Bayes classifier to use for any given problem?"
   ]
  },
  {
   "cell_type": "markdown",
   "id": "06707ecc-bc86-4193-a94e-39a481ca1c65",
   "metadata": {},
   "source": [
    "there is three type of Naive Bayes Bernoulli naive bayes , multinomial naive bayes , gaussian naive bayes\n",
    "\n",
    "- If in the dataset the features is given like pass , fail | yes , on | happy , sad | male , female | my mean is the dataset given like binary form , for that we use Bernoulli naive bayes\n",
    "\n",
    "- If in the dataset the features is given like review , like this product is good , this product is bad , so in this type of dataset we use multinomial naive bayes\n",
    "\n",
    "- If in the dataset the features is given like continous like , for explanation i take some feature , AGE - 12,34,43,55,65,78,43,23 | HEIGHT - 170 , 169 , 159 , 160 , 158 are are in cm | for that type of dataset we take gaussian naive bayes"
   ]
  },
  {
   "cell_type": "markdown",
   "id": "f4ebafad-8512-4cf8-b122-6aaac560ac45",
   "metadata": {},
   "source": [
    "Q6. Assignment:"
   ]
  },
  {
   "cell_type": "markdown",
   "id": "0407c831-1f0a-4d60-a388-7d35656ec5e9",
   "metadata": {},
   "source": [
    "You have a dataset with two features, X1 and X2, and two possible classes, A and B. You want to use Naive\n",
    "Bayes to classify a new instance with features X1 = 3 and X2 = 4. The following table shows the frequency of\n",
    "each feature value for each class:"
   ]
  },
  {
   "cell_type": "markdown",
   "id": "085465d7-9bda-41b0-8b5d-c9812ca40123",
   "metadata": {},
   "source": [
    "Assuming equal prior probabilities for each class, which class would Naive Bayes predict the new instance\n",
    "to belong to?"
   ]
  },
  {
   "cell_type": "code",
   "execution_count": 1,
   "id": "6b04ad22-35ac-44da-8402-d300f3c62027",
   "metadata": {},
   "outputs": [],
   "source": [
    "import pandas as pd"
   ]
  },
  {
   "cell_type": "code",
   "execution_count": 7,
   "id": "da157716-2b6f-45ce-ae99-42aac53af747",
   "metadata": {},
   "outputs": [],
   "source": [
    "df = pd.DataFrame({\n",
    "    \n",
    "    \n",
    "    'Class' : ['A' , 'B'],\n",
    "    'X1=1' : [3,2],\n",
    "    'X1=2' : [3,2],\n",
    "    'X1=3' : [4,1],\n",
    "    'X2=1' : [4,2],\n",
    "    'X2=2' : [3,2],\n",
    "    'X2=3' : [3,2],\n",
    "    'X2=4' : [3,3]\n",
    "    \n",
    "    \n",
    "    \n",
    "})"
   ]
  },
  {
   "cell_type": "code",
   "execution_count": 10,
   "id": "63d81f80-972c-4daf-816a-36d041c20e92",
   "metadata": {},
   "outputs": [
    {
     "data": {
      "text/html": [
       "<div>\n",
       "<style scoped>\n",
       "    .dataframe tbody tr th:only-of-type {\n",
       "        vertical-align: middle;\n",
       "    }\n",
       "\n",
       "    .dataframe tbody tr th {\n",
       "        vertical-align: top;\n",
       "    }\n",
       "\n",
       "    .dataframe thead th {\n",
       "        text-align: right;\n",
       "    }\n",
       "</style>\n",
       "<table border=\"1\" class=\"dataframe\">\n",
       "  <thead>\n",
       "    <tr style=\"text-align: right;\">\n",
       "      <th></th>\n",
       "      <th>Class</th>\n",
       "      <th>X1=1</th>\n",
       "      <th>X1=2</th>\n",
       "      <th>X1=3</th>\n",
       "      <th>X2=1</th>\n",
       "      <th>X2=2</th>\n",
       "      <th>X2=3</th>\n",
       "      <th>X2=4</th>\n",
       "    </tr>\n",
       "  </thead>\n",
       "  <tbody>\n",
       "    <tr>\n",
       "      <th>0</th>\n",
       "      <td>A</td>\n",
       "      <td>3</td>\n",
       "      <td>3</td>\n",
       "      <td>4</td>\n",
       "      <td>4</td>\n",
       "      <td>3</td>\n",
       "      <td>3</td>\n",
       "      <td>3</td>\n",
       "    </tr>\n",
       "    <tr>\n",
       "      <th>1</th>\n",
       "      <td>B</td>\n",
       "      <td>2</td>\n",
       "      <td>2</td>\n",
       "      <td>1</td>\n",
       "      <td>2</td>\n",
       "      <td>2</td>\n",
       "      <td>2</td>\n",
       "      <td>3</td>\n",
       "    </tr>\n",
       "  </tbody>\n",
       "</table>\n",
       "</div>"
      ],
      "text/plain": [
       "  Class  X1=1  X1=2  X1=3  X2=1  X2=2  X2=3  X2=4\n",
       "0     A     3     3     4     4     3     3     3\n",
       "1     B     2     2     1     2     2     2     3"
      ]
     },
     "execution_count": 10,
     "metadata": {},
     "output_type": "execute_result"
    }
   ],
   "source": [
    "df"
   ]
  },
  {
   "cell_type": "markdown",
   "id": "4c5d3ea9-0ca7-4e4d-a030-bee89c313486",
   "metadata": {},
   "source": [
    "The likelihood of observing X1=3 given class A is 4/10 = 0.4, while the likelihood of observing X1=3 given class B is 1/9 = 0.111. The likelihood of observing X2=4 given class A is 3/13 = 0.231, while the likelihood of observing X2=4 given class B is 3/9 = 0.333.\n",
    "\n",
    "Since Naive Bayes assumes that the features are conditionally independent given the class, we can calculate the likelihood of observing both X1=3 and X2=4 given each class by multiplying the individual likelihoods. The likelihood of observing both X1=3 and X2=4 given class A is 0.4 * 0.231 = 0.0924, while the likelihood of observing both X1=3 and X2=4 given class B is 0.111 * 0.333 = 0.0369.\n",
    "\n",
    "Since the likelihood of observing both X1=3 and X2=4 is higher for class A than for class B, Naive Bayes would predict that the new instance belongs to class A."
   ]
  },
  {
   "cell_type": "code",
   "execution_count": null,
   "id": "52dcddce-68b8-4492-9717-b90fde742795",
   "metadata": {},
   "outputs": [],
   "source": []
  }
 ],
 "metadata": {
  "kernelspec": {
   "display_name": "Python 3 (ipykernel)",
   "language": "python",
   "name": "python3"
  },
  "language_info": {
   "codemirror_mode": {
    "name": "ipython",
    "version": 3
   },
   "file_extension": ".py",
   "mimetype": "text/x-python",
   "name": "python",
   "nbconvert_exporter": "python",
   "pygments_lexer": "ipython3",
   "version": "3.10.8"
  }
 },
 "nbformat": 4,
 "nbformat_minor": 5
}
